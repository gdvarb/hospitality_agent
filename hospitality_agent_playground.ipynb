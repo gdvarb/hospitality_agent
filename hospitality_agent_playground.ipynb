{
 "cells": [
  {
   "cell_type": "code",
   "execution_count": 10,
   "id": "a1f88f2c-898f-4691-a84d-1b2c0d335aa5",
   "metadata": {},
   "outputs": [],
   "source": [
    "from openai import OpenAI\n",
    "import ollama\n",
    "from pydantic import BaseModel, Field\n",
    "import requests\n",
    "import json\n",
    "import os"
   ]
  },
  {
   "cell_type": "code",
   "execution_count": 2,
   "id": "2d03ce6a-3246-4488-b7e8-5e9f27b7c7f0",
   "metadata": {},
   "outputs": [],
   "source": [
    "model = \"llama3.1:8b\""
   ]
  },
  {
   "cell_type": "code",
   "execution_count": 3,
   "id": "787e0f32-666b-4d2f-aeda-6d8ece75fe9f",
   "metadata": {},
   "outputs": [],
   "source": [
    "client = OpenAI(\n",
    "    base_url=\"http://localhost:11434/v1\",\n",
    "    api_key=\"ollama\",\n",
    ")"
   ]
  },
  {
   "cell_type": "code",
   "execution_count": 8,
   "id": "47c7475a-302e-41bb-9afb-e833797e3475",
   "metadata": {},
   "outputs": [],
   "source": [
    "class NearbySearch(BaseModel):\n",
    "    name: str = Field(description=\"The name of the place.\")\n",
    "    address: str = Field(description=\"Address of the place.\")\n",
    "    types: list[str] = Field(description=\"List of the types that the place is categorized as.\") # Corrected typo\n",
    "    place_id: str = Field(description=\"Unique id that is associated with the place\")\n",
    "    response: str = Field(description=\"A natural language reponse to the user.\")"
   ]
  },
  {
   "cell_type": "code",
   "execution_count": 9,
   "id": "4f25b2a8-ffb8-4f4d-9144-252c123c414f",
   "metadata": {},
   "outputs": [],
   "source": [
    "tools = [\n",
    "    {\n",
    "        \"type\": \"function\",\n",
    "        \"function\": {\n",
    "            \"name\": \"search_nearby_places\",\n",
    "            \"description\": \"Search for nearby places by a list of categories.\",\n",
    "            \"strict\": True,\n",
    "            \"parameters\": {\n",
    "                \"type\": \"object\",\n",
    "                \"properties\": {\n",
    "                    \"categories\": {\n",
    "                        \"type\": \"array\",\n",
    "                        \"items\": {\"type\": \"string\"},\n",
    "                        \"description\": \"A list of categories to search for, e.g., ['restaurant', 'shopping_mall']\"\n",
    "                    }\n",
    "                },\n",
    "                \"required\": [\"categories\"],\n",
    "            },\n",
    "        },\n",
    "    }\n",
    "]"
   ]
  },
  {
   "cell_type": "code",
   "execution_count": null,
   "id": "ff914754-76c0-4d8d-b2d0-463355d5d74b",
   "metadata": {},
   "outputs": [],
   "source": [
    "from ./secerets import google_api"
   ]
  },
  {
   "cell_type": "code",
   "execution_count": 11,
   "id": "ea2543f9-59b0-418f-b874-41717ef3024d",
   "metadata": {},
   "outputs": [],
   "source": [
    "GOOGLE_API = google_api \n",
    "\n",
    "# Define valid categories once\n",
    "VALID_CATEGORIES = [\n",
    "    \"restaurant\", \"food\", \"meal_takeaway\", \"meal_delivery\", \"cafe\", \"bakery\",\n",
    "    \"bar\", \"night_club\", \"shopping_mall\", \"store\", \"gas_station\", \"hospital\",\n",
    "    \"pharmacy\", \"bank\", \"atm\", \"tourist_attraction\", \"lodging\", \"park\"\n",
    "]\n",
    "\n",
    "def search_nearby_places(categories: list[str]):\n",
    "    \"\"\"\n",
    "    Searches for nearby places based on a list of categories.\n",
    "    \"\"\"\n",
    "    if not categories:\n",
    "        return json.dumps({\"error\": \"Invalid call: no categories provided.\"}, indent=2)\n",
    "\n",
    "    location = \"27.7676,-82.6403\"  # St. Petersburg, FL coordinates\n",
    "    radius = 5000\n",
    "    formatted_results = []\n",
    "\n",
    "    # Loop through all provided categories\n",
    "    for category in categories:\n",
    "        if category not in VALID_CATEGORIES:\n",
    "            print(f\"Skipping invalid category: {category}\")\n",
    "            continue\n",
    "\n",
    "        endpoint = \"https://maps.googleapis.com/maps/api/place/nearbysearch/json\"\n",
    "        params = {\n",
    "            'location': location,\n",
    "            'radius': radius,\n",
    "            'type': category,\n",
    "            'key': GOOGLE_API\n",
    "        }\n",
    "        \n",
    "        try:\n",
    "            print(f\"Searching for category: {category}...\")\n",
    "            response = requests.get(endpoint, params=params, timeout=10)\n",
    "            response.raise_for_status()\n",
    "            data = response.json()\n",
    "            status = data.get('status')\n",
    "            \n",
    "            if status == 'OK':\n",
    "                results = data.get(\"results\", [])\n",
    "                # Add the top 2 results for this category to our list\n",
    "                for place in results[:2]:\n",
    "                    formatted_place = {\n",
    "                        \"category_searched\": category,\n",
    "                        \"name\": place.get(\"name\"),\n",
    "                        \"vicinity\": place.get(\"vicinity\"),\n",
    "                        \"rating\": place.get(\"rating\"),\n",
    "                        \"types\": place.get(\"types\", []),\n",
    "                    }\n",
    "                    formatted_results.append(formatted_place)\n",
    "            else:\n",
    "                print(f\"API Error for category '{category}': {data.get('error_message', status)}\")\n",
    "\n",
    "        except requests.exceptions.RequestException as e:\n",
    "            print(f\"Request failed for category '{category}': {e}\")\n",
    "            continue\n",
    "            \n",
    "    if not formatted_results:\n",
    "        return json.dumps({\"message\": \"No results found for the given categories.\"}, indent=2)\n",
    "        \n",
    "    return json.dumps(formatted_results, indent=2)"
   ]
  },
  {
   "cell_type": "code",
   "execution_count": 14,
   "id": "2740b97d-c22f-4f74-ab81-8c345d0fb7ed",
   "metadata": {},
   "outputs": [],
   "source": [
    "messages = [\n",
    "    {\"role\": \"system\", \"content\": f\"You are a helpful assistant that gathers accurate place recommendations. Allowed categories are {VALID_CATEGORIES}\"},\n",
    "    {\"role\": \"user\", \"content\": \"where can i get some food?\"}\n",
    "]"
   ]
  },
  {
   "cell_type": "code",
   "execution_count": 16,
   "id": "42b28703-1534-4d40-9429-bb18b50f6809",
   "metadata": {},
   "outputs": [],
   "source": [
    "response = client.chat.completions.create(\n",
    "    model=model,\n",
    "    messages=messages,\n",
    "    tools=tools\n",
    ") "
   ]
  },
  {
   "cell_type": "code",
   "execution_count": 17,
   "id": "619d2cf5-675f-48ec-8d0a-152508266c97",
   "metadata": {},
   "outputs": [
    {
     "data": {
      "text/plain": [
       "{'id': 'chatcmpl-147',\n",
       " 'choices': [{'finish_reason': 'tool_calls',\n",
       "   'index': 0,\n",
       "   'logprobs': None,\n",
       "   'message': {'content': '',\n",
       "    'refusal': None,\n",
       "    'role': 'assistant',\n",
       "    'annotations': None,\n",
       "    'audio': None,\n",
       "    'function_call': None,\n",
       "    'tool_calls': [{'id': 'call_s49u7n70',\n",
       "      'function': {'arguments': '{\"categories\":\"[\\\\\"food\\\\\", \\\\\"meal_takeaway\\\\\", \\\\\"meal_delivery\\\\\"]\"}',\n",
       "       'name': 'search_nearby_places'},\n",
       "      'type': 'function',\n",
       "      'index': 0}]}}],\n",
       " 'created': 1753714379,\n",
       " 'model': 'llama3.1:8b',\n",
       " 'object': 'chat.completion',\n",
       " 'service_tier': None,\n",
       " 'system_fingerprint': 'fp_ollama',\n",
       " 'usage': {'completion_tokens': 30,\n",
       "  'prompt_tokens': 275,\n",
       "  'total_tokens': 305,\n",
       "  'completion_tokens_details': None,\n",
       "  'prompt_tokens_details': None}}"
      ]
     },
     "execution_count": 17,
     "metadata": {},
     "output_type": "execute_result"
    }
   ],
   "source": [
    "response.model_dump()"
   ]
  },
  {
   "cell_type": "code",
   "execution_count": null,
   "id": "dc83e023-fa82-4c5f-94df-ef4e454f2a21",
   "metadata": {},
   "outputs": [],
   "source": []
  }
 ],
 "metadata": {
  "kernelspec": {
   "display_name": "Python 3 (ipykernel)",
   "language": "python",
   "name": "python3"
  },
  "language_info": {
   "codemirror_mode": {
    "name": "ipython",
    "version": 3
   },
   "file_extension": ".py",
   "mimetype": "text/x-python",
   "name": "python",
   "nbconvert_exporter": "python",
   "pygments_lexer": "ipython3",
   "version": "3.11.13"
  }
 },
 "nbformat": 4,
 "nbformat_minor": 5
}
